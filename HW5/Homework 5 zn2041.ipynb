{
 "cells": [
  {
   "cell_type": "markdown",
   "metadata": {},
   "source": [
    "# Introduction to Data Science\n",
    "## Homework 5"
   ]
  },
  {
   "cell_type": "markdown",
   "metadata": {},
   "source": [
    "Student Name: Zhifan Nan\n",
    "\n",
    "Student Netid: zn2041\n",
    "***"
   ]
  },
  {
   "cell_type": "markdown",
   "metadata": {},
   "source": [
    "### Part 1: Naive Bayes (5 Points)"
   ]
  },
  {
   "cell_type": "markdown",
   "metadata": {},
   "source": [
    "1\\. From your reading you know that the naive Bayes classifier works by calculating the conditional probabilities of each feature, $e_i$, occuring with each class $c$ and treating them independently. This results in the probability of a certain class occuring given a set of features, or a piece of evidence, $E$, as\n",
    "\n",
    "$$P(c \\mid E) = \\frac{p(e_1 \\mid c) \\cdot p(e_2 \\mid c) \\cdot \\cdot \\cdot p(e_k \\mid c) \\cdot p(c)}{p(E)}.$$\n",
    "\n",
    "The conditional probability of each piece of evidence occuring with a given class is given by\n",
    "\n",
    "$$P(e_i \\mid c) = \\frac{\\text{count}(e_i, c)}{\\text{count}(c)}.$$\n",
    "\n",
    "In the above equation $\\text{count}(e_i, c)$ is the number of documents in a given class that contain feature $e_i$ and $\\text{count}(c)$ is the number of documents that belong to class $c$. \n",
    "\n",
    "A common variation of the above is to use Laplace (sometimes called +1) smoothing. Recall the use of Laplace smoothing introduced toward the end of Chapter 3 in the section Probability Estimation. This is done in sklearn by setting `alpha=1` in the `BernoulliNB()` function (this is also the default behavior). The result of Laplace smoothing will slightly change the conditional probabilities,\n",
    "\n",
    "$$P(e_i \\mid c) = \\frac{\\text{count}(e_i, c) + 1}{\\text{count}(c) + 2}.$$\n",
    "\n",
    "In no more than **one paragraph**, describe why this is useful, and use the bias-variance tradeoff to justify its use. Try to think of a case when not using Laplace smoothing would result in \"bad\" models. Try to give an example. Be precise."
   ]
  },
  {
   "cell_type": "markdown",
   "metadata": {},
   "source": [
    "Answer: Laplace smoothing is like regularization. By introducing small bias to the model, it provides the model with better generalization ability. For example, in our training corpus, we have different categories of documents, let's say one of which is sport articles. However, none of them includes the word \"Ping Pong\", so after training our model on this corpus, we get P(\"Ping Pong\"|sport documents) = 0. When we go to the testing corpus, if there are some documents contained the word \"Ping Pong\", these documents will have a zero probability being classified as sport category simply because P(\"Ping Pong\"|sport documents) = 0. If we apply Laplace smoothing, although P(\"Ping Pong\"|sport documents) still has a low probability, other words in that document such as \"Olympics\", \"semi-finals\", etc will helps us classifiy this document to sport category because their higher probability being in sport documents."
   ]
  },
  {
   "cell_type": "markdown",
   "metadata": {},
   "source": [
    "### Part 2: Text classification for sentiment analysis (20 Points)\n",
    "For this part of the assignment, we are going to use a data set of movie ratings from IMDB.com. The data consists of the text of a movie review and a target variable which tells us whether the reviewer had a positive feeling towards the movie (equivalent to rating the movie between 7 and 10) or a negative feeling (rating the movie between 1 and 4). Neutral reactions are not included in the data.\n",
    "\n",
    "The first column is the review text; the second is the text label 'P' for positive or 'N' for negative."
   ]
  },
  {
   "cell_type": "markdown",
   "metadata": {},
   "source": [
    "1 (1 Point) \\. Load the data into a pandas `DataFrame()`."
   ]
  },
  {
   "cell_type": "code",
   "execution_count": 7,
   "metadata": {},
   "outputs": [],
   "source": [
    "import pandas as pd\n",
    "import numpy as np\n",
    "import matplotlib.pyplot as plt"
   ]
  },
  {
   "cell_type": "code",
   "execution_count": 8,
   "metadata": {},
   "outputs": [
    {
     "data": {
      "text/html": [
       "<div>\n",
       "<style scoped>\n",
       "    .dataframe tbody tr th:only-of-type {\n",
       "        vertical-align: middle;\n",
       "    }\n",
       "\n",
       "    .dataframe tbody tr th {\n",
       "        vertical-align: top;\n",
       "    }\n",
       "\n",
       "    .dataframe thead th {\n",
       "        text-align: right;\n",
       "    }\n",
       "</style>\n",
       "<table border=\"1\" class=\"dataframe\">\n",
       "  <thead>\n",
       "    <tr style=\"text-align: right;\">\n",
       "      <th></th>\n",
       "      <th>Text</th>\n",
       "      <th>Class</th>\n",
       "    </tr>\n",
       "  </thead>\n",
       "  <tbody>\n",
       "    <tr>\n",
       "      <th>0</th>\n",
       "      <td>'One of the first of the best musicals Anchors...</td>\n",
       "      <td>P</td>\n",
       "    </tr>\n",
       "    <tr>\n",
       "      <th>1</th>\n",
       "      <td>'Visually disjointed and full of itself the di...</td>\n",
       "      <td>N</td>\n",
       "    </tr>\n",
       "    <tr>\n",
       "      <th>2</th>\n",
       "      <td>'These type of movies about young teenagers st...</td>\n",
       "      <td>P</td>\n",
       "    </tr>\n",
       "    <tr>\n",
       "      <th>3</th>\n",
       "      <td>'I would rather of had my eyes gouged out with...</td>\n",
       "      <td>N</td>\n",
       "    </tr>\n",
       "    <tr>\n",
       "      <th>4</th>\n",
       "      <td>'The title says it all. Tail Gunner Joe was a ...</td>\n",
       "      <td>N</td>\n",
       "    </tr>\n",
       "  </tbody>\n",
       "</table>\n",
       "</div>"
      ],
      "text/plain": [
       "                                                Text Class\n",
       "0  'One of the first of the best musicals Anchors...     P\n",
       "1  'Visually disjointed and full of itself the di...     N\n",
       "2  'These type of movies about young teenagers st...     P\n",
       "3  'I would rather of had my eyes gouged out with...     N\n",
       "4  'The title says it all. Tail Gunner Joe was a ...     N"
      ]
     },
     "execution_count": 8,
     "metadata": {},
     "output_type": "execute_result"
    }
   ],
   "source": [
    "imdb = pd.read_csv(\"imdb.csv\")\n",
    "imdb.dropna(inplace=True)\n",
    "imdb.head()"
   ]
  },
  {
   "cell_type": "markdown",
   "metadata": {},
   "source": [
    "2 (1 Point)\\. Code the target variable to be numeric: use the value `1` to represent 'P' and `0` to represent 'N'."
   ]
  },
  {
   "cell_type": "code",
   "execution_count": 9,
   "metadata": {},
   "outputs": [
    {
     "data": {
      "text/html": [
       "<div>\n",
       "<style scoped>\n",
       "    .dataframe tbody tr th:only-of-type {\n",
       "        vertical-align: middle;\n",
       "    }\n",
       "\n",
       "    .dataframe tbody tr th {\n",
       "        vertical-align: top;\n",
       "    }\n",
       "\n",
       "    .dataframe thead th {\n",
       "        text-align: right;\n",
       "    }\n",
       "</style>\n",
       "<table border=\"1\" class=\"dataframe\">\n",
       "  <thead>\n",
       "    <tr style=\"text-align: right;\">\n",
       "      <th></th>\n",
       "      <th>Text</th>\n",
       "      <th>Class</th>\n",
       "    </tr>\n",
       "  </thead>\n",
       "  <tbody>\n",
       "    <tr>\n",
       "      <th>0</th>\n",
       "      <td>'One of the first of the best musicals Anchors...</td>\n",
       "      <td>1</td>\n",
       "    </tr>\n",
       "    <tr>\n",
       "      <th>1</th>\n",
       "      <td>'Visually disjointed and full of itself the di...</td>\n",
       "      <td>0</td>\n",
       "    </tr>\n",
       "    <tr>\n",
       "      <th>2</th>\n",
       "      <td>'These type of movies about young teenagers st...</td>\n",
       "      <td>1</td>\n",
       "    </tr>\n",
       "    <tr>\n",
       "      <th>3</th>\n",
       "      <td>'I would rather of had my eyes gouged out with...</td>\n",
       "      <td>0</td>\n",
       "    </tr>\n",
       "    <tr>\n",
       "      <th>4</th>\n",
       "      <td>'The title says it all. Tail Gunner Joe was a ...</td>\n",
       "      <td>0</td>\n",
       "    </tr>\n",
       "  </tbody>\n",
       "</table>\n",
       "</div>"
      ],
      "text/plain": [
       "                                                Text  Class\n",
       "0  'One of the first of the best musicals Anchors...      1\n",
       "1  'Visually disjointed and full of itself the di...      0\n",
       "2  'These type of movies about young teenagers st...      1\n",
       "3  'I would rather of had my eyes gouged out with...      0\n",
       "4  'The title says it all. Tail Gunner Joe was a ...      0"
      ]
     },
     "execution_count": 9,
     "metadata": {},
     "output_type": "execute_result"
    }
   ],
   "source": [
    "imdb = imdb.replace({\"Class\": {'P':1, 'N':0}})\n",
    "imdb.head()"
   ]
  },
  {
   "cell_type": "markdown",
   "metadata": {},
   "source": [
    "3 (2 Points)\\. Put all of the text into a data frame called `X` and the target variable in a data frame called `Y`. Make a train/test split where you give 75% of the data to training. Feel free to use any function from sklearn."
   ]
  },
  {
   "cell_type": "code",
   "execution_count": 10,
   "metadata": {},
   "outputs": [],
   "source": [
    "from sklearn.model_selection import train_test_split"
   ]
  },
  {
   "cell_type": "code",
   "execution_count": 11,
   "metadata": {},
   "outputs": [],
   "source": [
    "X, Y = imdb[['Text']], imdb[['Class']]\n",
    "X_train, X_test, Y_train, Y_test = train_test_split(X, Y, test_size=0.25, random_state=42)"
   ]
  },
  {
   "cell_type": "markdown",
   "metadata": {},
   "source": [
    "4 (5 Points)\\. Create a binary `CountVectorizer()` and a binary `TfidfVectorizer()`. Use the original single words as well as bigrams (in the same model). Also, use an \"english\" stop word list. Fit these to the training data to extract a vocabulary and then transform both the train and test data. Hint - look at the API documentation for both vectorizers to see what we mean by \"binary.\""
   ]
  },
  {
   "cell_type": "code",
   "execution_count": 12,
   "metadata": {},
   "outputs": [],
   "source": [
    "from sklearn.feature_extraction.text import CountVectorizer\n",
    "from sklearn.feature_extraction.text import TfidfVectorizer"
   ]
  },
  {
   "cell_type": "code",
   "execution_count": 13,
   "metadata": {},
   "outputs": [],
   "source": [
    "X_train, X_test = X_train['Text'].values.tolist(), X_test['Text'].values.tolist()\n",
    "y_train, y_test = Y_train['Class'].values.reshape(-1), Y_test['Class'].values.reshape(-1)"
   ]
  },
  {
   "cell_type": "code",
   "execution_count": 14,
   "metadata": {},
   "outputs": [],
   "source": [
    "count_vectorizer = CountVectorizer(stop_words='english', ngram_range=(1,2), binary=True)\n",
    "X_train_count = count_vectorizer.fit_transform(X_train)\n",
    "X_test_count = count_vectorizer.transform(X_test)"
   ]
  },
  {
   "cell_type": "code",
   "execution_count": 121,
   "metadata": {},
   "outputs": [],
   "source": [
    "tfidf_vectorizer = TfidfVectorizer(stop_words='english', ngram_range=(1,2), binary=True)\n",
    "X_train_tfidf = tfidf_vectorizer.fit_transform(X_train)\n",
    "X_test_tfidf = tfidf_vectorizer.transform(X_test)"
   ]
  },
  {
   "cell_type": "markdown",
   "metadata": {},
   "source": [
    "5 (6 Points)\\. Create `LogisticRegression()` and `BernoulliNB()` models. For all settings, keep the default values. In a single plot, show the AUC curve for both classifiers and both vectorizers defined above. In the legend, include the area under the ROC curve (AUC). Do not forget to label your axes. Your final plot will be a single window with 4 curves.\n",
    "\n",
    "Which model do you think does a better job? Why? Explain in no more than a paragraph.\n",
    "\n",
    "Extra credit (2 points): Do any of the options perform identically? If so, can you explain why?"
   ]
  },
  {
   "cell_type": "code",
   "execution_count": 123,
   "metadata": {},
   "outputs": [],
   "source": [
    "# Run this so your plots show properly\n",
    "import matplotlib.pyplot as plt\n",
    "%matplotlib inline\n",
    "plt.rcParams['figure.figsize'] = 12, 8"
   ]
  },
  {
   "cell_type": "code",
   "execution_count": 125,
   "metadata": {},
   "outputs": [
    {
     "data": {
      "image/png": "[encoded data removed]",
      "text/plain": [
       "<Figure size 864x576 with 1 Axes>"
      ]
     },
     "metadata": {
      "needs_background": "light"
     },
     "output_type": "display_data"
    }
   ],
   "source": [
    "from sklearn.linear_model import LogisticRegression\n",
    "from sklearn.naive_bayes import BernoulliNB, MultinomialNB\n",
    "from sklearn import metrics\n",
    "\n",
    "lr = LogisticRegression()\n",
    "lr.fit(X_train_count, y_train)\n",
    "y_pred = lr.predict_proba(X_test_count)\n",
    "fpr, tpr, _ = metrics.roc_curve(y_test, y_pred[:, 1])\n",
    "roc_auc = metrics.auc(fpr, tpr)\n",
    "plt.plot(fpr, tpr, label='lr & Count: {:.5f}'.format(roc_auc))\n",
    "\n",
    "lr = LogisticRegression()\n",
    "lr.fit(X_train_tfidf, y_train)\n",
    "y_pred = lr.predict_proba(X_test_tfidf)\n",
    "fpr, tpr, _ = metrics.roc_curve(y_test, y_pred[:, 1])\n",
    "roc_auc = metrics.auc(fpr, tpr)\n",
    "plt.plot(fpr, tpr, label='lr & Tfidf: {:.5f}'.format(roc_auc))\n",
    "\n",
    "NB = BernoulliNB()\n",
    "NB.fit(X_train_count, y_train)\n",
    "y_pred = NB.predict_proba(X_test_count)\n",
    "fpr, tpr, _ = metrics.roc_curve(y_test, y_pred[:, 1])\n",
    "roc_auc = metrics.auc(fpr, tpr)\n",
    "plt.plot(fpr, tpr, label='NB & Count: {:.5f}'.format(roc_auc))\n",
    "\n",
    "NB = BernoulliNB()\n",
    "NB.fit(X_train_tfidf, y_train)\n",
    "y_pred = NB.predict_proba(X_test_tfidf)\n",
    "fpr, tpr, _ = metrics.roc_curve(y_test, y_pred[:, 1])\n",
    "roc_auc = metrics.auc(fpr, tpr)\n",
    "plt.plot(fpr, tpr, label='NB & Count: {:.5f}'.format(roc_auc))\n",
    "plt.legend()\n",
    "plt.xlabel(\"False Positive Rate\")\n",
    "plt.ylabel(\"True Positive Rate\")\n",
    "plt.show()"
   ]
  },
  {
   "cell_type": "markdown",
   "metadata": {},
   "source": [
    "Answer: LogisticRegression with the TfidfVectorizer is the model that performs slightly better than the other three. The reason is mostly because the TfidfVectorizer penalizes those words that appear too often in our training corpus, which provides extra information that CountVectorizer does not provide. What's more, the Naive Bayesian Classifier made the underlying assumption that words in one document are independent of each other, which apparently is not true.\n",
    "\n",
    "The two models with the Naive Bayesian Classifier perform identically because BernoulliNB is designed for binary/boolean features, which means that although the TfidfVectorizer provides numerical scores for each word, the classifier treats them as 1 or 0 just like how it treats the binary count given by CountVectorizer, which wastes the extra information provided by TdidfVectorizer and make their performance identical to each other. If we would like to take the tfidf score into account, we can use the MultinomialNB to replace the BernoulliNB classifier, which will give us a better result."
   ]
  },
  {
   "cell_type": "markdown",
   "metadata": {
    "collapsed": true
   },
   "source": [
    "5\\. Use the model from question 4 that you think did the best job and predict the rating of the test data. Find 5 examples were labeled positive, but were incorrectly classified as negative. Print out the reviews below and include an explanation as to why you think it may have been incorrectly classified. You can pick any 5. They do not have to be at random."
   ]
  },
  {
   "cell_type": "code",
   "execution_count": 168,
   "metadata": {},
   "outputs": [],
   "source": [
    "lr = LogisticRegression()\n",
    "lr.fit(X_train_tfidf, y_train)\n",
    "y_pred = lr.predict(X_test_tfidf)"
   ]
  },
  {
   "cell_type": "code",
   "execution_count": 171,
   "metadata": {},
   "outputs": [
    {
     "name": "stdout",
     "output_type": "stream",
     "text": [
      "2049: 'Richard Widmark is a tainted character in this movie. He is a professional pickpocket. Hes been in prison three times yet at the beginning of the film he tries to make it four. Thelma Ritter is a busy body selling information to almost everybody. Jean Peters is amazing as the girl flamed by Widmark. This is a period piece during the McCarthy era where the Red Scare ruled the politics and is worked into this plot quite nicely. What is unusual about this film is that Peters & Ritter are both victims of violent beatings in an era where women were seldom more than sex objects in films. This is what makes this film noir as women often got different roles in this type of film. The film is only 87 minutes long and was obviously made by Fox as the under card for double features in the theater. The sets show it is a limited budget film. The script made J Edgar Hoover mad because patriotism is given short shrift. Hoover wanted it changed. Instead it became a B under card picture that was a sleeper hit in 1953. The script & acting in it are better than other big features were that year.'\n",
      "\n",
      "2054: 'This is one of those unique horror films that requires a much more mature understanding of the word horror in order for it to be appreciated. The main thing people may fail to realize that this story is told through the point of view a little boy and as with most younger children he gets frightened easily. Mainly because he simply doesnt understand things like why his father is hardly ever there for him. From watching the film you can see the husband arguing with his wife the balance between work time and family time and you can easily understand it but the little boy doesnt. Also one can imagine the boy being afraid of the woods as it is established early on in the film that the family is from the city. Also in the beginning as the family is traveling to the house they hit a deer then get held up then they argue with the locals about it and the little boy surely didnt find this introduction to the woods pleasant at all. The Wendigo is ultimately what his young innocent mind fabricates to explain all of this. There is the American Indian legend but when looking at the scene where the young boy hears about about it it is explained to him like bluntly and simplistically. Not because thats what the Wendigo actually is but because that is how he understands it. When you look at the film from this point of view you can really begin to appreciate it. Obviously it was low-budget and shot cheaply but the jumping montages use of light and general eeriness more than make up for it. And the final question the film asks is: is it all in your head or is it really out there? 8/10 Rated R: profanity violence and a sex scene'\n",
      "\n",
      "2069: 'Let us begin by saying that this films English title The Power of Kangwon Province is an absolute misnomer.It is because in Hong Sang Soos filmthere are no actual shots of warstroubles and conflicts.So the idea of establishing power of a province is neither suitable nor valid in the context of this film.If we were to judge this film by its Korean language titleKangwon-do ui him is going to appear as a cryptic statement about emotional turmoils of its young protagonists whose minds are not at rest.Hong Sang Soo has also directed a highly prolific visual document about erratic choices made by people in their lives.The people in question are a couple of young girls who are constantly in the process of displaying their moodswhims and fancies. If making a film out of nothingness can be claimed as a film makers meritorious virtue then Hong Sang Soo has to be saluted as a courageous film maker whose films speak volumes about ubiquitous nothingness of human relationshipssentiments and lives.Whether one likes it or notthis is the only fair conclusion that be deduced from this particular film.'\n",
      "\n",
      "2070: 'This isnt the best Bigfoot ever made but by the recent standards of Nature gone awry movies mostly showing on the Sci-Fi channel this is quality stuff. It has some action some humor decent F/X and Bigfoot. CG is used but so are some practical F/X which I like. Overall this movie is worth a watch if you are a fan of B horror/sci-fi and need a fix. Its better than the movie Sasquatch and not a sequel to it so dont be fooled. The acting is better than you may expect to find in a movie like this and the directing is more than adequate. Expect a bit of a lul as the characters are developed but know that things will pick up. If you are watching a DVD you may want to skip a chapter or two.'\n",
      "\n",
      "2091: 'This movie is just plain silly. Almost every scene has some bit of humor: running gags slapstick and great jokes. The acting isnt that great and the plot is cliche but the jokes more than make up for that. If you have a chance to see this movie I recommend that you do.'\n",
      "\n"
     ]
    }
   ],
   "source": [
    "incorrect_idx = [i for i in range(len(y_pred)) if y_test[i] == 1 and y_pred[i] == 0]\n",
    "for i in incorrect_idx[-5:]:\n",
    "    print(f\"{i}: {X_test[i]}\\n\")"
   ]
  },
  {
   "cell_type": "markdown",
   "metadata": {},
   "source": [
    "Answer: Some wording in these positive reviews can be misleading for a classifier, for example, \"silly\" in review 5, \"fooled\" in review 4, \"misnomer\" in review 3, \"shot cheaply\" in review 2, \"limited budget\" in review 1, and etc. Putting them into contexts, we can see these words are actually conveying some facts or even positive sentiments regarding the movie, but looking at them individually as single words or bigram words like the classifier does, they are strongly correlated with negative sentiments, and that's why our classifier misclassifies these reviews."
   ]
  },
  {
   "cell_type": "markdown",
   "metadata": {},
   "source": [
    "Explanation for the 5 reviews chosen here!"
   ]
  }
 ],
 "metadata": {
  "anaconda-cloud": {},
  "kernelspec": {
   "display_name": "Python 3",
   "language": "python",
   "name": "python3"
  },
  "language_info": {
   "codemirror_mode": {
    "name": "ipython",
    "version": 3
   },
   "file_extension": ".py",
   "mimetype": "text/x-python",
   "name": "python",
   "nbconvert_exporter": "python",
   "pygments_lexer": "ipython3",
   "version": "3.7.8"
  }
 },
 "nbformat": 4,
 "nbformat_minor": 1
}
